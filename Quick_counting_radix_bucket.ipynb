{
 "cells": [
  {
   "cell_type": "code",
   "execution_count": null,
   "metadata": {
    "id": "aLVUNWrlhUIp"
   },
   "outputs": [],
   "source": [
    "import random as rd\n",
    "import numpy\n",
    "import sys\n",
    "import time\n",
    "import matplotlib.pyplot as plt\n",
    "\n",
    "sys.setrecursionlimit(15000)\n",
    "\n",
    "c_arr = r_arr = b_arr = [] # initialise empty list"
   ]
  },
  {
   "cell_type": "code",
   "execution_count": null,
   "metadata": {
    "id": "ZLYLfxS5jGwm"
   },
   "outputs": [],
   "source": [
    "def counting_init(n,DEBUG):\n",
    "  global c_arr\n",
    "  c_arr = []\n",
    "  for i in range(0,n):\n",
    "     c_arr.append(rd.randint(0,9)) # assign random values to the empty list\n",
    "    \n",
    "  print(n, \"Elements\")\n",
    "  if(DEBUG):\n",
    "    print(\"Unsorted: \", c_arr)\n",
    "\n",
    "def radix_init(n,DEBUG):\n",
    "  global r_arr\n",
    "  r_arr = []\n",
    "  for i in range(0,n):\n",
    "     r_arr.append(rd.randint(10000,99999)) # assign random values to the empty list\n",
    "    \n",
    "  print(n, \"Elements\")\n",
    "  if(DEBUG):\n",
    "    print(\"Unsorted: \", r_arr)\n",
    "\n",
    "def bucket_init(n,DEBUG):\n",
    "  global b_arr\n",
    "  b_arr = []\n",
    "  for i in range(0,n):\n",
    "     b_arr.append(numpy.random.uniform(0,n)) # assign random values to the empty list\n",
    "    \n",
    "  print(n, \"Elements\")\n",
    "  if(DEBUG):\n",
    "    print(\"Unsorted: \", b_arr)"
   ]
  },
  {
   "cell_type": "markdown",
   "metadata": {
    "id": "3HdqnQAebuxx"
   },
   "source": [
    "\n",
    "\n",
    "---\n",
    "Counting Sort\n"
   ]
  },
  {
   "cell_type": "code",
   "execution_count": null,
   "metadata": {
    "id": "C3eposT0fj5z"
   },
   "outputs": [],
   "source": [
    "def countingSort(array):\n",
    "    size = len(array) - 1\n",
    "    k = 10\n",
    "\n",
    "    output = [0] * size\n",
    "\n",
    "    count = [0] * k # Initialize an empty array \n",
    "\n",
    "    for i in range(0, size): # Store the count of each elements\n",
    "         #print(array[i])\n",
    "        count[array[i]] += 1\n",
    "\n",
    "    for i in range(1, k): # Store the cummulative count of element\n",
    "        count[i] += count[i - 1]\n",
    "\n",
    "    # Find the index of each element in the initialized array and place in output array\n",
    "    i = size - 1\n",
    "    while i >= 0:\n",
    "        output[count[array[i]] - 1] = array[i]\n",
    "        count[array[i]] -= 1\n",
    "        i -= 1\n",
    "\n",
    "    for i in range(0, size): # copy the sorted elements\n",
    "        array[i] = output[i]"
   ]
  },
  {
   "cell_type": "markdown",
   "metadata": {
    "id": "J7-KG7tRcHca"
   },
   "source": [
    "\n",
    "\n",
    "---\n",
    "Radix Sort\n"
   ]
  },
  {
   "cell_type": "code",
   "execution_count": null,
   "metadata": {
    "id": "Elof_2P1cGXy"
   },
   "outputs": [],
   "source": [
    "def radix_countingSort(array, position):\n",
    "    size = len(array)\n",
    "    output = [0] * size\n",
    "    k = max(array)\n",
    "    count = [0] * k\n",
    "\n",
    "    # number of elements\n",
    "    for i in range(0, size):\n",
    "        index = array[i] // position\n",
    "        count[index % 10] += 1\n",
    "\n",
    "    # cummulative count of the elements\n",
    "    for i in range(1, 10):\n",
    "        count[i] += count[i - 1]\n",
    "\n",
    "    # Place the elements in sorted order\n",
    "    i = size - 1\n",
    "    while i >= 0:\n",
    "        index = array[i] // position\n",
    "        output[count[index % 10] - 1] = array[i]\n",
    "        count[index % 10] -= 1\n",
    "        i -= 1\n",
    "\n",
    "    for i in range(0, size):\n",
    "        array[i] = output[i]\n",
    "\n",
    "def radixSort(array):\n",
    "    # Get maximum element\n",
    "    max_element = max(array)\n",
    "\n",
    "    # Apply counting sort to sort elements.\n",
    "    position = 1\n",
    "    while max_element // position > 0:\n",
    "        radix_countingSort(array, position)\n",
    "        position *= 10"
   ]
  },
  {
   "cell_type": "markdown",
   "metadata": {
    "id": "XVLuQp66cZdM"
   },
   "source": [
    "\n",
    "\n",
    "---\n",
    "Bucket Sort\n"
   ]
  },
  {
   "cell_type": "code",
   "execution_count": null,
   "metadata": {
    "id": "mkw1P9_1cYRD"
   },
   "outputs": [],
   "source": [
    "def insertion_sort(b):\n",
    "    for i in range (1, len (b)):\n",
    "        temp = b[i]\n",
    "        j = i - 1\n",
    "        while (j >= 0 and temp < b[j]):\n",
    "            b[j + 1] = b[j]\n",
    "            j = j - 1\n",
    "        b[j + 1] = temp\n",
    "        \n",
    "\n",
    "def bucketSort(b_sort):\n",
    "    max_value = max(b_sort)\n",
    "    size = max_value/len(b_sort)\n",
    "\n",
    "    B = []\n",
    "    for x in range(len(b_sort)):\n",
    "        B.append([]) \n",
    "\n",
    "    for i in range(len(b_sort)):\n",
    "        j = int (b_sort[i] / size)\n",
    "        if j != len (b_sort):\n",
    "            B[j].append(b_sort[i])\n",
    "        else:\n",
    "            B[len(b_sort) - 1].append(b_sort[i])\n",
    "\n",
    "    for z in range(len(b_sort)):\n",
    "        insertion_sort(B[z])\n",
    "            \n",
    "    final = []\n",
    "    for x in range(len (b_sort)):\n",
    "        final = final + B[x]\n",
    "    return final"
   ]
  },
  {
   "cell_type": "markdown",
   "metadata": {
    "id": "LrpurH2Wb5cq"
   },
   "source": [
    "\n",
    "\n",
    "---\n",
    "Quick Sort\n"
   ]
  },
  {
   "cell_type": "code",
   "execution_count": null,
   "metadata": {
    "id": "Q0MG9aEKhtIo"
   },
   "outputs": [],
   "source": [
    "def partition(qs_arr, start, end): \n",
    "    i = ( start-1 )         # index of smaller element \n",
    "    pivot = qs_arr[end]     # pivot \n",
    "  \n",
    "    for j in range(start , end): \n",
    "  \n",
    "        # If current element is smaller than the pivot \n",
    "        if   qs_arr[j] < pivot: \n",
    "          \n",
    "            # increment index of smaller element \n",
    "            i = i+1 \n",
    "            qs_arr[i],qs_arr[j] = qs_arr[j],qs_arr[i] \n",
    "  \n",
    "    qs_arr[i+1],qs_arr[end] = qs_arr[end],qs_arr[i+1] \n",
    "    return ( i+1 ) \n",
    "  \n",
    "# Function to do Quick sort \n",
    "def quickSort(qs_arr, start, end): \n",
    "    if start < end: \n",
    "  \n",
    "        # p_index is partitioning index\n",
    "        p_index = partition(qs_arr, start, end) \n",
    "        #sort index\n",
    "        quickSort(qs_arr, start, p_index - 1) \n",
    "        quickSort(qs_arr, p_index + 1, end) "
   ]
  },
  {
   "cell_type": "markdown",
   "metadata": {
    "id": "1_MLeN08b9Li"
   },
   "source": [
    "\n",
    "\n",
    "---\n",
    "Driver Code\n"
   ]
  },
  {
   "cell_type": "code",
   "execution_count": null,
   "metadata": {
    "id": "eQnbNvqkOTPX"
   },
   "outputs": [],
   "source": [
    "def main(n, sort_type , DEBUG):\n",
    "\n",
    "  if sort_type == \"counting\":\n",
    "\n",
    "    counting_init(n, DEBUG)\n",
    "    qs_arr = c_arr\n",
    "    count_arr = c_arr\n",
    "\n",
    "    # quick sort\n",
    "    qs_start_time = time.clock() # capture processor time \n",
    "    quickSort(qs_arr, 0, len(qs_arr) - 1)\n",
    "    qs_time_elapsed = time.clock() - qs_start_time\n",
    "\n",
    "    # counting sort\n",
    "    start_time = time.clock() # capture processor time\n",
    "    countingSort(count_arr) \n",
    "    c_time_elapsed = time.clock() - start_time\n",
    "\n",
    "    print(\"\\nQuick Sort:\")\n",
    "    print(\"Time Elapsed = \",qs_time_elapsed, \" seconds\")\n",
    "    if DEBUG:\n",
    "        print(\"Sorted: \", qs_arr)\n",
    "\n",
    "    print(\"\\nCounting Sort: \")\n",
    "    print(\"Time Elapsed = \",c_time_elapsed, \" seconds\")\n",
    "    if DEBUG:\n",
    "        print(\"Sorted: \", count_arr)\n",
    "\n",
    "    print(\"----------------------------------------------------------------------------------------------------\")\n",
    "    return [qs_time_elapsed, c_time_elapsed]\n",
    "\n",
    "\n",
    "  if sort_type == \"radix\":\n",
    "\n",
    "    radix_init(n, DEBUG)\n",
    "    qs_arr = r_arr\n",
    "    radix_arr = r_arr\n",
    "\n",
    "    # quick sort\n",
    "    qs_start_time = time.clock() # capture processor time \n",
    "    quickSort(qs_arr, 0, len(qs_arr) - 1)\n",
    "    qs_time_elapsed = time.clock() - qs_start_time\n",
    "\n",
    "    # radix sort\n",
    "    start_time = time.clock() # capture processor time\n",
    "    radixSort(radix_arr) \n",
    "    r_time_elapsed = time.clock() - start_time\n",
    "\n",
    "    print(\"\\nQuick Sort:\")\n",
    "    print(\"Time Elapsed = \",qs_time_elapsed, \" seconds\")\n",
    "    if DEBUG:\n",
    "        print(\"Sorted: \", qs_arr)\n",
    "\n",
    "    print(\"\\nRadix Sort: \")\n",
    "    print(\"Time Elapsed = \",r_time_elapsed, \" seconds\")\n",
    "    if DEBUG:\n",
    "        print(\"Sorted: \", radix_arr)\n",
    "\n",
    "    print(\"----------------------------------------------------------------------------------------------------\")\n",
    "    return [qs_time_elapsed, r_time_elapsed]\n",
    "\n",
    "\n",
    "\n",
    "  if sort_type == \"bucket\":\n",
    "\n",
    "    bucket_init(n, DEBUG)\n",
    "    qs_arr = b_arr\n",
    "    bucket_arr = b_arr\n",
    "\n",
    "    # quick sort\n",
    "    qs_start_time = time.clock() # capture processor time \n",
    "    quickSort(qs_arr, 0, len(qs_arr) - 1)\n",
    "    qs_time_elapsed = time.clock() - qs_start_time\n",
    "\n",
    "    # bucket sort\n",
    "    start_time = time.clock() # capture processor time\n",
    "    bucketSort(bucket_arr) \n",
    "    b_time_elapsed = time.clock() - start_time\n",
    "\n",
    "    print(\"\\nQuick Sort:\")\n",
    "    print(\"Time Elapsed = \",qs_time_elapsed, \" seconds\")\n",
    "    if DEBUG:\n",
    "        print(\"Sorted: \", qs_arr)\n",
    "\n",
    "    print(\"\\nBucket Sort: \")\n",
    "    print(\"Time Elapsed = \",b_time_elapsed, \" seconds\")\n",
    "    if DEBUG:\n",
    "      print(\"Sorted: \", bucket_arr)\n",
    "\n",
    "    print(\"----------------------------------------------------------------------------------------------------\")\n",
    "    return [qs_time_elapsed, b_time_elapsed]"
   ]
  },
  {
   "cell_type": "code",
   "execution_count": null,
   "metadata": {
    "colab": {
     "base_uri": "https://localhost:8080/",
     "height": 1000
    },
    "id": "EQU13pMVjRJ0",
    "outputId": "a19e0bdb-65bd-4b8c-d86c-dbc2c0b785e1"
   },
   "outputs": [
    {
     "name": "stdout",
     "output_type": "stream",
     "text": [
      "100 Elements\n",
      "Unsorted:  [5, 4, 8, 3, 5, 6, 4, 2, 0, 6, 0, 4, 9, 8, 3, 3, 2, 7, 6, 8, 6, 8, 9, 7, 2, 7, 6, 0, 7, 4, 2, 5, 8, 8, 7, 6, 5, 7, 5, 2, 2, 9, 9, 0, 5, 1, 8, 9, 3, 4, 2, 4, 2, 6, 0, 9, 2, 6, 6, 1, 1, 4, 8, 9, 7, 6, 9, 0, 6, 7, 6, 0, 1, 9, 0, 2, 2, 3, 6, 2, 5, 8, 9, 0, 8, 8, 5, 6, 0, 9, 0, 3, 7, 8, 1, 7, 1, 7, 6, 7]\n",
      "\n",
      "Quick Sort:\n",
      "Time Elapsed =  0.00023599999999923682  seconds\n",
      "Sorted:  [0, 0, 0, 0, 0, 0, 0, 0, 0, 0, 0, 1, 1, 1, 1, 1, 1, 2, 2, 2, 2, 2, 2, 2, 2, 2, 2, 2, 2, 3, 3, 3, 3, 3, 3, 4, 4, 4, 4, 4, 4, 4, 5, 5, 5, 5, 5, 5, 5, 5, 6, 6, 6, 6, 6, 6, 6, 6, 6, 6, 6, 6, 6, 6, 6, 7, 7, 7, 7, 7, 7, 7, 7, 7, 7, 7, 7, 8, 8, 8, 8, 8, 8, 8, 8, 8, 8, 8, 8, 9, 9, 9, 9, 9, 9, 9, 9, 9, 9, 9]\n",
      "\n",
      "Counting Sort: \n",
      "Time Elapsed =  3.5999999999702936e-05  seconds\n",
      "Sorted:  [0, 0, 0, 0, 0, 0, 0, 0, 0, 0, 0, 1, 1, 1, 1, 1, 1, 2, 2, 2, 2, 2, 2, 2, 2, 2, 2, 2, 2, 3, 3, 3, 3, 3, 3, 4, 4, 4, 4, 4, 4, 4, 5, 5, 5, 5, 5, 5, 5, 5, 6, 6, 6, 6, 6, 6, 6, 6, 6, 6, 6, 6, 6, 6, 6, 7, 7, 7, 7, 7, 7, 7, 7, 7, 7, 7, 7, 8, 8, 8, 8, 8, 8, 8, 8, 8, 8, 8, 8, 9, 9, 9, 9, 9, 9, 9, 9, 9, 9, 9]\n",
      "----------------------------------------------------------------------------------------------------\n",
      "300 Elements\n",
      "\n",
      "Quick Sort:\n",
      "Time Elapsed =  0.0007739999999998304  seconds\n",
      "\n",
      "Counting Sort: \n",
      "Time Elapsed =  0.0001650000000008589  seconds\n",
      "----------------------------------------------------------------------------------------------------\n",
      "500 Elements\n",
      "\n",
      "Quick Sort:\n",
      "Time Elapsed =  0.0011630000000000251  seconds\n",
      "\n",
      "Counting Sort: \n",
      "Time Elapsed =  0.00016800000000039006  seconds\n",
      "----------------------------------------------------------------------------------------------------\n",
      "100 Elements\n",
      "Unsorted:  [94573, 88275, 61591, 74651, 89464, 58463, 14008, 61000, 86883, 35871, 25881, 92738, 17972, 14527, 41587, 41108, 54518, 57565, 40727, 61147, 27998, 66163, 36725, 57227, 92593, 75201, 45717, 21726, 53608, 58598, 30806, 38324, 33653, 65536, 55305, 71096, 30160, 24382, 39785, 75905, 63661, 11383, 17209, 59140, 36739, 38217, 96216, 41940, 13417, 14630, 62398, 56622, 97767, 36516, 20926, 25005, 86976, 74422, 26933, 98079, 84345, 29919, 62315, 60976, 69415, 90244, 68249, 18891, 82378, 66328, 76158, 19209, 78242, 32596, 36347, 36984, 50877, 89071, 93048, 39104, 16691, 46410, 26431, 96138, 41943, 86693, 81429, 90610, 68734, 32282, 38145, 95147, 96978, 91750, 40618, 60356, 90061, 38743, 83529, 10655]\n",
      "\n",
      "Quick Sort:\n",
      "Time Elapsed =  0.00015900000000002024  seconds\n",
      "Sorted:  [10655, 11383, 13417, 14008, 14527, 14630, 16691, 17209, 17972, 18891, 19209, 20926, 21726, 24382, 25005, 25881, 26431, 26933, 27998, 29919, 30160, 30806, 32282, 32596, 33653, 35871, 36347, 36516, 36725, 36739, 36984, 38145, 38217, 38324, 38743, 39104, 39785, 40618, 40727, 41108, 41587, 41940, 41943, 45717, 46410, 50877, 53608, 54518, 55305, 56622, 57227, 57565, 58463, 58598, 59140, 60356, 60976, 61000, 61147, 61591, 62315, 62398, 63661, 65536, 66163, 66328, 68249, 68734, 69415, 71096, 74422, 74651, 75201, 75905, 76158, 78242, 81429, 82378, 83529, 84345, 86693, 86883, 86976, 88275, 89071, 89464, 90061, 90244, 90610, 91750, 92593, 92738, 93048, 94573, 95147, 96138, 96216, 96978, 97767, 98079]\n",
      "\n",
      "Radix Sort: \n",
      "Time Elapsed =  0.0019439999999999458  seconds\n",
      "Sorted:  [10655, 11383, 13417, 14008, 14527, 14630, 16691, 17209, 17972, 18891, 19209, 20926, 21726, 24382, 25005, 25881, 26431, 26933, 27998, 29919, 30160, 30806, 32282, 32596, 33653, 35871, 36347, 36516, 36725, 36739, 36984, 38145, 38217, 38324, 38743, 39104, 39785, 40618, 40727, 41108, 41587, 41940, 41943, 45717, 46410, 50877, 53608, 54518, 55305, 56622, 57227, 57565, 58463, 58598, 59140, 60356, 60976, 61000, 61147, 61591, 62315, 62398, 63661, 65536, 66163, 66328, 68249, 68734, 69415, 71096, 74422, 74651, 75201, 75905, 76158, 78242, 81429, 82378, 83529, 84345, 86693, 86883, 86976, 88275, 89071, 89464, 90061, 90244, 90610, 91750, 92593, 92738, 93048, 94573, 95147, 96138, 96216, 96978, 97767, 98079]\n",
      "----------------------------------------------------------------------------------------------------\n",
      "300 Elements\n",
      "\n",
      "Quick Sort:\n",
      "Time Elapsed =  0.0006389999999996121  seconds\n",
      "\n",
      "Radix Sort: \n",
      "Time Elapsed =  0.002847000000000932  seconds\n",
      "----------------------------------------------------------------------------------------------------\n",
      "500 Elements\n",
      "\n",
      "Quick Sort:\n",
      "Time Elapsed =  0.0008880000000015542  seconds\n",
      "\n",
      "Radix Sort: \n",
      "Time Elapsed =  0.002856000000001302  seconds\n",
      "----------------------------------------------------------------------------------------------------\n",
      "100 Elements\n",
      "Unsorted:  [58.338126463423556, 90.45782063151316, 17.713786640661844, 82.47999299346787, 89.16313960464221, 50.92593355278739, 11.910299901031118, 49.818396326057766, 9.567525972577041, 1.8418702364339956, 61.95291346660642, 44.040325804169036, 17.631858475018667, 95.26799528772091, 74.28726166638128, 33.73646877311397, 56.7670420675354, 98.73056546087577, 91.9129751639093, 63.48881527994712, 91.53949806182324, 76.87291164566243, 65.54001989277405, 98.98657309344337, 93.0673368356288, 85.22528626876242, 98.973017094242, 38.576137266542446, 87.90755013532167, 65.69912214854664, 11.894832697870905, 97.45805510929337, 1.6884966081536223, 62.45588958405287, 58.364683698801045, 19.265306098288804, 79.8299044099817, 84.86280897936814, 4.7397889898941115, 57.01510190894295, 6.794707371638453, 53.437896875158145, 81.75906269522496, 28.444527351824423, 88.20826216592744, 1.0473403121134206, 50.160426073027786, 90.45095976355044, 62.38093497954191, 52.01962214309297, 8.972835048244077, 41.27703264586475, 54.767150923601314, 84.11442586183148, 50.79351219098156, 79.60101088425819, 60.85257531836764, 97.15368069397056, 12.780694407160153, 75.02649451234913, 76.1979451125444, 95.0414509541252, 3.060401144189462, 5.2496652858836645, 81.59960859966297, 21.373435612240566, 4.899580683481464, 41.58803876725352, 47.4331364918112, 50.0622002304593, 0.642745290794533, 58.715756402641375, 45.14731499360316, 77.25174855520315, 55.88067363481913, 33.87968278407381, 19.476778891161885, 69.90818500480403, 42.23982560606604, 22.1250301051257, 15.854360452483697, 35.36564486962304, 96.25341298895476, 69.83433876661387, 91.32202665437356, 3.112448346563812, 7.642145306006176, 78.49574069284694, 65.1226735256115, 5.819365493429752, 15.453846844702323, 2.853888748036759, 4.724561688125817, 34.801128805835546, 52.572949899167774, 5.095258696540372, 41.60259836961517, 95.87529620816703, 34.94921832129958, 63.74563005629186]\n",
      "\n",
      "Quick Sort:\n",
      "Time Elapsed =  0.00015100000000067837  seconds\n",
      "Sorted:  [0.642745290794533, 1.0473403121134206, 1.6884966081536223, 1.8418702364339956, 2.853888748036759, 3.060401144189462, 3.112448346563812, 4.724561688125817, 4.7397889898941115, 4.899580683481464, 5.095258696540372, 5.2496652858836645, 5.819365493429752, 6.794707371638453, 7.642145306006176, 8.972835048244077, 9.567525972577041, 11.894832697870905, 11.910299901031118, 12.780694407160153, 15.453846844702323, 15.854360452483697, 17.631858475018667, 17.713786640661844, 19.265306098288804, 19.476778891161885, 21.373435612240566, 22.1250301051257, 28.444527351824423, 33.73646877311397, 33.87968278407381, 34.801128805835546, 34.94921832129958, 35.36564486962304, 38.576137266542446, 41.27703264586475, 41.58803876725352, 41.60259836961517, 42.23982560606604, 44.040325804169036, 45.14731499360316, 47.4331364918112, 49.818396326057766, 50.0622002304593, 50.160426073027786, 50.79351219098156, 50.92593355278739, 52.01962214309297, 52.572949899167774, 53.437896875158145, 54.767150923601314, 55.88067363481913, 56.7670420675354, 57.01510190894295, 58.338126463423556, 58.364683698801045, 58.715756402641375, 60.85257531836764, 61.95291346660642, 62.38093497954191, 62.45588958405287, 63.48881527994712, 63.74563005629186, 65.1226735256115, 65.54001989277405, 65.69912214854664, 69.83433876661387, 69.90818500480403, 74.28726166638128, 75.02649451234913, 76.1979451125444, 76.87291164566243, 77.25174855520315, 78.49574069284694, 79.60101088425819, 79.8299044099817, 81.59960859966297, 81.75906269522496, 82.47999299346787, 84.11442586183148, 84.86280897936814, 85.22528626876242, 87.90755013532167, 88.20826216592744, 89.16313960464221, 90.45095976355044, 90.45782063151316, 91.32202665437356, 91.53949806182324, 91.9129751639093, 93.0673368356288, 95.0414509541252, 95.26799528772091, 95.87529620816703, 96.25341298895476, 97.15368069397056, 97.45805510929337, 98.73056546087577, 98.973017094242, 98.98657309344337]\n",
      "\n",
      "Bucket Sort: \n",
      "Time Elapsed =  0.00013799999999974943  seconds\n",
      "Sorted:  [0.642745290794533, 1.0473403121134206, 1.6884966081536223, 1.8418702364339956, 2.853888748036759, 3.060401144189462, 3.112448346563812, 4.724561688125817, 4.7397889898941115, 4.899580683481464, 5.095258696540372, 5.2496652858836645, 5.819365493429752, 6.794707371638453, 7.642145306006176, 8.972835048244077, 9.567525972577041, 11.894832697870905, 11.910299901031118, 12.780694407160153, 15.453846844702323, 15.854360452483697, 17.631858475018667, 17.713786640661844, 19.265306098288804, 19.476778891161885, 21.373435612240566, 22.1250301051257, 28.444527351824423, 33.73646877311397, 33.87968278407381, 34.801128805835546, 34.94921832129958, 35.36564486962304, 38.576137266542446, 41.27703264586475, 41.58803876725352, 41.60259836961517, 42.23982560606604, 44.040325804169036, 45.14731499360316, 47.4331364918112, 49.818396326057766, 50.0622002304593, 50.160426073027786, 50.79351219098156, 50.92593355278739, 52.01962214309297, 52.572949899167774, 53.437896875158145, 54.767150923601314, 55.88067363481913, 56.7670420675354, 57.01510190894295, 58.338126463423556, 58.364683698801045, 58.715756402641375, 60.85257531836764, 61.95291346660642, 62.38093497954191, 62.45588958405287, 63.48881527994712, 63.74563005629186, 65.1226735256115, 65.54001989277405, 65.69912214854664, 69.83433876661387, 69.90818500480403, 74.28726166638128, 75.02649451234913, 76.1979451125444, 76.87291164566243, 77.25174855520315, 78.49574069284694, 79.60101088425819, 79.8299044099817, 81.59960859966297, 81.75906269522496, 82.47999299346787, 84.11442586183148, 84.86280897936814, 85.22528626876242, 87.90755013532167, 88.20826216592744, 89.16313960464221, 90.45095976355044, 90.45782063151316, 91.32202665437356, 91.53949806182324, 91.9129751639093, 93.0673368356288, 95.0414509541252, 95.26799528772091, 95.87529620816703, 96.25341298895476, 97.15368069397056, 97.45805510929337, 98.73056546087577, 98.973017094242, 98.98657309344337]\n",
      "----------------------------------------------------------------------------------------------------\n",
      "300 Elements\n",
      "\n",
      "Quick Sort:\n",
      "Time Elapsed =  0.00041099999999971715  seconds\n",
      "\n",
      "Bucket Sort: \n",
      "Time Elapsed =  0.00041199999999896875  seconds\n",
      "----------------------------------------------------------------------------------------------------\n",
      "500 Elements\n",
      "\n",
      "Quick Sort:\n",
      "Time Elapsed =  0.000722999999998919  seconds\n",
      "\n",
      "Bucket Sort: \n",
      "Time Elapsed =  0.0008940000000006165  seconds\n",
      "----------------------------------------------------------------------------------------------------\n"
     ]
    }
   ],
   "source": [
    "n100 = main(100, \"counting\", True)\n",
    "c_qs100 = n100[0]\n",
    "c100 = n100[1]\n",
    "\n",
    "n300 = main(300, \"counting\", False)\n",
    "c_qs300 = n300[0]\n",
    "c300 = n300[1]\n",
    "\n",
    "n500 = main(500, \"counting\", False)\n",
    "c_qs500 = n500[0]\n",
    "c500 = n500[1]\n",
    "\n",
    "##########################\n",
    "\n",
    "n100 = main(100,\"radix\", True)\n",
    "r_qs100 = n100[0]\n",
    "r100 = n100[1]\n",
    "\n",
    "n300 = main(300,\"radix\", False)\n",
    "r_qs300 = n300[0]\n",
    "r300 = n300[1]\n",
    "\n",
    "n500 = main(500,\"radix\", False)\n",
    "r_qs500 = n500[0]\n",
    "r500 = n500[1]\n",
    "\n",
    "##########################\n",
    "\n",
    "n100 = main(100,\"bucket\", True)\n",
    "b_qs100 = n100[0]\n",
    "b100 = n100[1]\n",
    "\n",
    "n300 = main(300,\"bucket\", False)\n",
    "b_qs300 = n300[0]\n",
    "b300 = n300[1]\n",
    "\n",
    "n500 = main(500,\"bucket\", False)\n",
    "b_qs500 = n500[0]\n",
    "b500 = n500[1]\n",
    "\n"
   ]
  },
  {
   "cell_type": "code",
   "execution_count": null,
   "metadata": {
    "id": "kwAFq8xphOH5"
   },
   "outputs": [],
   "source": [
    "names = ['n100', 'n300', 'n500']\n",
    "\n",
    "qs_names = ['qs100', 'qs300', 'qs500']\n",
    "c_qs_values = [c_qs100, c_qs300, c_qs500]\n",
    "r_qs_values = [r_qs100, r_qs300, r_qs500]\n",
    "b_qs_values = [b_qs100, b_qs300, b_qs500]\n",
    "\n",
    "c_names = ['c100', 'c300', 'c500']\n",
    "c_values = [c100, c300, c500]\n",
    "\n",
    "r_names = ['r100', 'r300', 'r500']\n",
    "r_values = [r100, r300, r500]\n",
    "\n",
    "b_names = ['b100', 'b300', 'b500']\n",
    "b_values = [b100, b300, b500]"
   ]
  },
  {
   "cell_type": "code",
   "execution_count": null,
   "metadata": {
    "colab": {
     "base_uri": "https://localhost:8080/",
     "height": 350
    },
    "id": "hOwho47En3Yd",
    "outputId": "f511dec8-92d1-4c9c-e2d2-947f59ca6cab"
   },
   "outputs": [
    {
     "data": {
      "image/png": "[encoded data removed]",
      "text/plain": [
       "<Figure size 576x360 with 1 Axes>"
      ]
     },
     "metadata": {
      "needs_background": "light",
      "tags": []
     },
     "output_type": "display_data"
    }
   ],
   "source": [
    "fig = plt.figure(figsize = (8, 5))\n",
    "\n",
    "plt.plot(names, c_values, 'green', marker = '*', label=\"CountingSort\")\n",
    "plt.plot(names, c_qs_values, 'red', marker = '*', label=\"QuickSort\")\n",
    "\n",
    "plt.xlabel('Number of Elements')\n",
    "plt.ylabel('Execution time')\n",
    "plt.title('Quick Sort vs Counting Sort - Performance Analysis')\n",
    "plt.legend()\n",
    "plt.show()"
   ]
  },
  {
   "cell_type": "code",
   "execution_count": null,
   "metadata": {
    "colab": {
     "base_uri": "https://localhost:8080/",
     "height": 350
    },
    "id": "nfa20sLtTHBC",
    "outputId": "b343947a-5b2d-47e0-972b-2cad2059f6b5"
   },
   "outputs": [
    {
     "data": {
      "image/png": "[encoded data removed]",
      "text/plain": [
       "<Figure size 576x360 with 1 Axes>"
      ]
     },
     "metadata": {
      "needs_background": "light",
      "tags": []
     },
     "output_type": "display_data"
    }
   ],
   "source": [
    "fig = plt.figure(figsize = (8, 5))\n",
    "\n",
    "plt.plot(names, r_values, 'green', marker = '*', label=\"RadixSort\")\n",
    "plt.plot(names, r_qs_values, 'red', marker = '*', label=\"QuickSort\")\n",
    "\n",
    "plt.xlabel('Number of Elements')\n",
    "plt.ylabel('Execution time')\n",
    "plt.title('Quick Sort vs Radix Sort - Performance Analysis')\n",
    "plt.legend()\n",
    "plt.show()"
   ]
  },
  {
   "cell_type": "code",
   "execution_count": null,
   "metadata": {
    "colab": {
     "base_uri": "https://localhost:8080/",
     "height": 350
    },
    "id": "_bZwBFJKg8fN",
    "outputId": "caeebb8f-35e9-4397-8376-6e5affb44f65"
   },
   "outputs": [
    {
     "data": {
      "image/png": "[encoded data removed]",
      "text/plain": [
       "<Figure size 576x360 with 1 Axes>"
      ]
     },
     "metadata": {
      "needs_background": "light",
      "tags": []
     },
     "output_type": "display_data"
    }
   ],
   "source": [
    "fig = plt.figure(figsize = (8, 5))\n",
    "\n",
    "plt.plot(names, b_values, 'green', marker = '*', label=\"BucketSort\")\n",
    "plt.plot(names, b_qs_values, 'red', marker = '*', label=\"QuickSort\")\n",
    "\n",
    "plt.xlabel('Number of Elements')\n",
    "plt.ylabel('Execution time')\n",
    "plt.title('Quick Sort vs Bucket Sort - Performance Analysis')\n",
    "plt.legend()\n",
    "plt.show()"
   ]
  },
  {
   "cell_type": "code",
   "execution_count": null,
   "metadata": {
    "id": "u9Gs1BQ5hvoI"
   },
   "outputs": [],
   "source": []
  }
 ],
 "metadata": {
  "colab": {
   "collapsed_sections": [],
   "name": "DSA_Assignment5_st121363.ipynb",
   "provenance": []
  },
  "kernelspec": {
   "display_name": "Python 3",
   "language": "python",
   "name": "python3"
  },
  "language_info": {
   "codemirror_mode": {
    "name": "ipython",
    "version": 3
   },
   "file_extension": ".py",
   "mimetype": "text/x-python",
   "name": "python",
   "nbconvert_exporter": "python",
   "pygments_lexer": "ipython3",
   "version": "3.8.5"
  }
 },
 "nbformat": 4,
 "nbformat_minor": 1
}
